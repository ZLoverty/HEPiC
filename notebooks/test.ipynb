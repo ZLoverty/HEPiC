{
 "cells": [
  {
   "cell_type": "code",
   "execution_count": 5,
   "id": "c813c9d4",
   "metadata": {},
   "outputs": [
    {
     "name": "stdout",
     "output_type": "stream",
     "text": [
      "当前系统可识别的串口：\n",
      "- 端口: COM1\n",
      "  描述: 通信端口 (COM1)\n",
      "  硬件ID: ACPI\\PNP0501\\0\n",
      "--------------------\n"
     ]
    }
   ],
   "source": [
    "import serial.tools.list_ports\n",
    "\n",
    "# 获取所有可用串口的列表\n",
    "ports = serial.tools.list_ports.comports()\n",
    "\n",
    "print(\"当前系统可识别的串口：\")\n",
    "if not ports:\n",
    "    print(\"...未找到任何串口...\")\n",
    "\n",
    "# 遍历并打印每个串口的详细信息\n",
    "for port, desc, hwid in sorted(ports):\n",
    "    print(f\"- 端口: {port}\")\n",
    "    print(f\"  描述: {desc}\")\n",
    "    print(f\"  硬件ID: {hwid}\")\n",
    "    print(\"-\" * 20)"
   ]
  },
  {
   "cell_type": "code",
   "execution_count": null,
   "id": "c00831fc",
   "metadata": {},
   "outputs": [],
   "source": [
    "import serial\n",
    "\n",
    "PORT = 12345\n",
    "PORT_URL = f\"rfc2217://localhost:{PORT}\""
   ]
  }
 ],
 "metadata": {
  "kernelspec": {
   "display_name": "py39",
   "language": "python",
   "name": "python3"
  },
  "language_info": {
   "codemirror_mode": {
    "name": "ipython",
    "version": 3
   },
   "file_extension": ".py",
   "mimetype": "text/x-python",
   "name": "python",
   "nbconvert_exporter": "python",
   "pygments_lexer": "ipython3",
   "version": "3.9.23"
  }
 },
 "nbformat": 4,
 "nbformat_minor": 5
}
