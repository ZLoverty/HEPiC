{
 "cells": [
  {
   "cell_type": "code",
   "execution_count": 1,
   "id": "7361a096",
   "metadata": {},
   "outputs": [],
   "source": [
    "import numpy as np"
   ]
  },
  {
   "cell_type": "code",
   "execution_count": 2,
   "id": "216956e0",
   "metadata": {},
   "outputs": [],
   "source": [
    "Ts = np.linspace(200, 240, 10)\n",
    "Vs = np.linspace(0.5, 9, 10)\n",
    "t_each = 100"
   ]
  },
  {
   "cell_type": "code",
   "execution_count": 10,
   "id": "11b86b95",
   "metadata": {},
   "outputs": [],
   "source": [
    "total_length = 0\n",
    "with open(\"gcode.txt\", \"w\") as f:\n",
    "    for T in Ts:\n",
    "        f.write(f\"M109 S{T:.2f}\\n\")\n",
    "        for V in Vs:\n",
    "            ext_length = V*t_each\n",
    "            total_length += ext_length\n",
    "            f.write(f\"G1 E{ext_length:.2f} F{V*60:.2f}\\n\")"
   ]
  },
  {
   "cell_type": "code",
   "execution_count": 8,
   "id": "ebb36f66",
   "metadata": {},
   "outputs": [
    {
     "data": {
      "text/plain": [
       "np.float64(47500.0)"
      ]
     },
     "execution_count": 8,
     "metadata": {},
     "output_type": "execute_result"
    }
   ],
   "source": [
    "total_length"
   ]
  },
  {
   "cell_type": "code",
   "execution_count": null,
   "id": "a297bb30",
   "metadata": {},
   "outputs": [],
   "source": []
  }
 ],
 "metadata": {
  "kernelspec": {
   "display_name": "py12",
   "language": "python",
   "name": "python3"
  },
  "language_info": {
   "codemirror_mode": {
    "name": "ipython",
    "version": 3
   },
   "file_extension": ".py",
   "mimetype": "text/x-python",
   "name": "python",
   "nbconvert_exporter": "python",
   "pygments_lexer": "ipython3",
   "version": "3.12.11"
  }
 },
 "nbformat": 4,
 "nbformat_minor": 5
}
