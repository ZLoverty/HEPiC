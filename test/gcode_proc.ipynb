{
 "cells": [
  {
   "cell_type": "code",
   "execution_count": 1,
   "id": "e6d6456e",
   "metadata": {},
   "outputs": [],
   "source": [
    "import re\n",
    "\n",
    "f_regex = re.compile(r'F([0-9.-]+)', re.IGNORECASE)"
   ]
  },
  {
   "cell_type": "code",
   "execution_count": 2,
   "id": "2eea4c1b",
   "metadata": {},
   "outputs": [
    {
     "data": {
      "text/plain": [
       "<re.Match object; span=(7, 11), match='F300'>"
      ]
     },
     "execution_count": 2,
     "metadata": {},
     "output_type": "execute_result"
    }
   ],
   "source": [
    "f_match = f_regex.search(\"G1 E10 F300\")\n",
    "f_match"
   ]
  },
  {
   "cell_type": "code",
   "execution_count": null,
   "id": "a69c31d8",
   "metadata": {},
   "outputs": [],
   "source": [
    "def get_feedrate_from_gcode(gcode):\n",
    "    \"\"\"Get F value from gcode and convert to mm/s. If not set, return None.\n",
    "    \n",
    "    Parameters\n",
    "    ----------\n",
    "    gcode : str\n",
    "        a line of gcode\n",
    "    \n",
    "    \"\"\"\n",
    "    f_regex = re.compile(r'F([0-9.-]+)', re.IGNORECASE)\n",
    "    f_match = f_regex.search(gcode)\n",
    "    if f_match:\n",
    "        feedrate_mms = float(f_match.group(1)) / 60.0\n",
    "    else:\n",
    "        return None"
   ]
  },
  {
   "cell_type": "code",
   "execution_count": 5,
   "id": "b4377695",
   "metadata": {},
   "outputs": [],
   "source": [
    "get_feedrate_from_gcode(\"G1 E10\")"
   ]
  },
  {
   "cell_type": "code",
   "execution_count": null,
   "id": "7627b338",
   "metadata": {},
   "outputs": [],
   "source": []
  }
 ],
 "metadata": {
  "kernelspec": {
   "display_name": "py12",
   "language": "python",
   "name": "python3"
  },
  "language_info": {
   "codemirror_mode": {
    "name": "ipython",
    "version": 3
   },
   "file_extension": ".py",
   "mimetype": "text/x-python",
   "name": "python",
   "nbconvert_exporter": "python",
   "pygments_lexer": "ipython3",
   "version": "3.12.11"
  }
 },
 "nbformat": 4,
 "nbformat_minor": 5
}
